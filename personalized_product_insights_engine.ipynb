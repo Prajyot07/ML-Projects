{
  "nbformat": 4,
  "nbformat_minor": 0,
  "metadata": {
    "colab": {
      "provenance": []
    },
    "kernelspec": {
      "name": "python3",
      "display_name": "Python 3"
    },
    "language_info": {
      "name": "python"
    }
  },
  "cells": [
    {
      "cell_type": "code",
      "execution_count": 15,
      "metadata": {
        "id": "nH6cECn3-Zaw"
      },
      "outputs": [],
      "source": [
        "import pandas as pd\n",
        "import numpy as np\n",
        "from sklearn.feature_extraction.text import TfidfVectorizer\n",
        "from sklearn.metrics.pairwise import cosine_similarity\n",
        "from sklearn.model_selection import train_test_split\n",
        "from scipy.sparse.linalg import svds\n",
        "from scipy.sparse import csr_matrix\n",
        "\n",
        "# Load the dataset\n",
        "data = pd.read_csv('amazon.csv')"
      ]
    },
    {
      "cell_type": "code",
      "source": [
        "data.info()"
      ],
      "metadata": {
        "colab": {
          "base_uri": "https://localhost:8080/"
        },
        "id": "yojICTpBAaoE",
        "outputId": "301dc7c7-6e42-4d03-cd65-7b7463b07c60"
      },
      "execution_count": 16,
      "outputs": [
        {
          "output_type": "stream",
          "name": "stdout",
          "text": [
            "<class 'pandas.core.frame.DataFrame'>\n",
            "RangeIndex: 1465 entries, 0 to 1464\n",
            "Data columns (total 16 columns):\n",
            " #   Column               Non-Null Count  Dtype \n",
            "---  ------               --------------  ----- \n",
            " 0   product_id           1465 non-null   object\n",
            " 1   product_name         1465 non-null   object\n",
            " 2   category             1465 non-null   object\n",
            " 3   discounted_price     1465 non-null   object\n",
            " 4   actual_price         1465 non-null   object\n",
            " 5   discount_percentage  1465 non-null   object\n",
            " 6   rating               1465 non-null   object\n",
            " 7   rating_count         1463 non-null   object\n",
            " 8   about_product        1465 non-null   object\n",
            " 9   user_id              1465 non-null   object\n",
            " 10  user_name            1465 non-null   object\n",
            " 11  review_id            1465 non-null   object\n",
            " 12  review_title         1465 non-null   object\n",
            " 13  review_content       1465 non-null   object\n",
            " 14  img_link             1465 non-null   object\n",
            " 15  product_link         1465 non-null   object\n",
            "dtypes: object(16)\n",
            "memory usage: 183.3+ KB\n"
          ]
        }
      ]
    },
    {
      "cell_type": "code",
      "source": [
        "# Step 1: Data Preprocessing\n",
        "# Fill missing values\n",
        "text_features = ['product_name', 'about_product', 'category']\n",
        "for feature in text_features:\n",
        "    data[feature] = data[feature].fillna('Unknown')\n",
        "data['rating'] = pd.to_numeric(data['rating'], errors='coerce')  # Convert invalid values to NaN\n",
        "data['rating'] = data['rating'].fillna(data['rating'].mean())  # Fill NaNs with the mean rating\n",
        "\n",
        "# Step 2: Content-Based Filtering\n",
        "# Create a TF-IDF vectorizer for the text data\n",
        "tfidf = TfidfVectorizer(stop_words='english')\n",
        "\n",
        "# Combine text features into a single string\n",
        "data['text_features'] = data['product_name'] + ' ' + data['about_product'] + ' ' + data['category']\n",
        "\n",
        "# Fit and transform TF-IDF\n",
        "tfidf_matrix = tfidf.fit_transform(data['text_features'])\n",
        "\n",
        "# Compute cosine similarity\n",
        "cosine_sim = cosine_similarity(tfidf_matrix, tfidf_matrix)\n",
        "\n"
      ],
      "metadata": {
        "id": "EYa7mVf7_baz"
      },
      "execution_count": 17,
      "outputs": []
    },
    {
      "cell_type": "code",
      "source": [
        "# Content-based recommendation function\n",
        "def content_based_recommendations(product_id, top_n=10):\n",
        "    idx = data[data['product_id'] == product_id].index[0]\n",
        "    similarity_scores = list(enumerate(cosine_sim[idx]))\n",
        "    similarity_scores = sorted(similarity_scores, key=lambda x: x[1], reverse=True)\n",
        "    similar_items = [data.iloc[i[0]].product_id for i in similarity_scores[1:top_n + 1]]\n",
        "    return similar_items\n",
        "\n",
        "# Step 3: Collaborative Filtering\n",
        "# Create user-item interaction matrix\n",
        "data = data.groupby(['user_id', 'product_id'], as_index=False).agg({'rating': 'mean'})\n",
        "user_item_matrix = data.pivot(index='user_id', columns='product_id', values='rating').fillna(0)\n",
        "# Convert to sparse matrix\n",
        "user_item_sparse = csr_matrix(user_item_matrix.values)\n",
        "# Perform matrix factorization using SVD\n",
        "U, sigma, Vt = svds(user_item_sparse, k=50)\n",
        "sigma = np.diag(sigma)\n",
        "# Predict ratings\n",
        "predicted_ratings = np.dot(np.dot(U, sigma), Vt)\n",
        "predicted_ratings_df = pd.DataFrame(predicted_ratings, columns=user_item_matrix.columns, index=user_item_matrix.index)"
      ],
      "metadata": {
        "id": "C66rsLn0_g2B"
      },
      "execution_count": 18,
      "outputs": []
    },
    {
      "cell_type": "code",
      "source": [
        "# Collaborative filtering recommendation function\n",
        "def collaborative_filtering_recommendations(user_id, top_n=10):\n",
        "    user_ratings = predicted_ratings_df.loc[user_id]\n",
        "    top_items = user_ratings.sort_values(ascending=False).head(top_n).index.tolist()\n",
        "    return top_items\n",
        "\n",
        "# Step 4: Hybrid Recommendation System\n",
        "def hybrid_recommendations(user_id, product_id, top_n=10):\n",
        "    content_recs = content_based_recommendations(product_id, top_n=top_n)\n",
        "    collab_recs = collaborative_filtering_recommendations(user_id, top_n=top_n)\n",
        "    combined_recs = list(set(content_recs + collab_recs))[:top_n]\n",
        "    return combined_recs\n",
        "\n",
        "# Example Usage\n",
        "example_user_id = data['user_id'].iloc[0]\n",
        "example_product_id = data['product_id'].iloc[0]\n",
        "\n",
        "print(\"Content-Based Recommendations:\", content_based_recommendations(example_product_id))\n",
        "print(\"Collaborative Filtering Recommendations:\", collaborative_filtering_recommendations(example_user_id))\n",
        "print(\"Hybrid Recommendations:\", hybrid_recommendations(example_user_id, example_product_id))"
      ],
      "metadata": {
        "id": "Z01VWEVE_jWX",
        "colab": {
          "base_uri": "https://localhost:8080/"
        },
        "outputId": "4ebf3e36-1049-4676-d518-54338ec97ea7"
      },
      "execution_count": 19,
      "outputs": [
        {
          "output_type": "stream",
          "name": "stdout",
          "text": [
            "Content-Based Recommendations: ['B07GPXXNNG', 'B01F25X6RQ', 'B08D6RCM3Q', 'B0B5GF6DQD', 'B0BF57RN3K', 'B09NNGHG22', 'B09QS9CWLV', 'B008QS9J6Y', 'B08Y5QJXSR', 'B0B8XNPQPN']\n",
            "Collaborative Filtering Recommendations: ['B071Z8M4KX', 'B07GPXXNNG', 'B07GQD4K6L', 'B08HVL8QN3', 'B08HVJCW95', 'B08HV83HL3', 'B07WFPMGQQ', 'B07WHSJXLF', 'B07WDK3ZS2', 'B09LHYZ3GJ']\n",
            "Hybrid Recommendations: ['B071Z8M4KX', 'B07WHSJXLF', 'B08HVJCW95', 'B09LHYZ3GJ', 'B0B8XNPQPN', 'B08HVL8QN3', 'B07WFPMGQQ', 'B08D6RCM3Q', 'B07GPXXNNG', 'B09NNGHG22']\n"
          ]
        }
      ]
    }
  ]
}